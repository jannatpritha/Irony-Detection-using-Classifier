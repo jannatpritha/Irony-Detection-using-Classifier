{
  "cells": [
    {
      "cell_type": "code",
      "execution_count": null,
      "metadata": {
        "id": "i26lWJ9ZF6Nq"
      },
      "outputs": [],
      "source": [
        "!pip install ekphrasis\n",
        "!pip install krovetzstemmer\n",
        "!pip install emoji\n",
        "!pip install emoticon-fix\n",
        "!pip install git+https://github.com/fucaja/ekphrasis.git\n"
      ]
    },
    {
      "cell_type": "markdown",
      "metadata": {
        "id": "aQH0kg0sipfI"
      },
      "source": [
        "Multinomial\n",
        "\n",
        "```\n",
        "  classifier = Pipeline([\n",
        "     ('count_vectorizer', CountVectorizer(ngram_range=(1, 3))),\n",
        "      ('tfidf', TfidfTransformer(norm='l2', use_idf=True, smooth_idf=True, sublinear_tf=False)),\n",
        "     ('clf', OneVsRestClassifier(MultinomialNB(alpha=1.0, fit_prior=True, class_prior=None)))])\n",
        "```\n",
        "\n"
      ]
    },
    {
      "cell_type": "code",
      "execution_count": null,
      "metadata": {
        "colab": {
          "base_uri": "https://localhost:8080/"
        },
        "id": "EYyRse9w_zBH",
        "outputId": "33627238-e1ae-433d-d9df-665e17577f1b"
      },
      "outputs": [
        {
          "name": "stdout",
          "output_type": "stream",
          "text": [
            "Reading twitter - 1grams ...\n",
            "Reading twitter - 2grams ...\n",
            "/usr/local/lib/python3.7/dist-packages/ekphrasis/classes/exmanager.py:14: FutureWarning: Possible nested set at position 42\n",
            "  regexes = {k.lower(): re.compile(self.expressions[k]) for k, v in\n",
            "Confusion Matrix :\n",
            "[[247  64]\n",
            " [180 293]]\n",
            "Recall Score : 0.7942122186495176\n",
            "Precision Score : 0.5784543325526932\n",
            "F1 Score : 0.6693766937669376\n",
            "Accuracy : 0.6887755102040817\n",
            "Evaluation Report : \n",
            "              precision    recall  f1-score   support\n",
            "\n",
            "       irony       0.58      0.79      0.67       311\n",
            "    notIrony       0.82      0.62      0.71       473\n",
            "\n",
            "    accuracy                           0.69       784\n",
            "   macro avg       0.70      0.71      0.69       784\n",
            "weighted avg       0.72      0.69      0.69       784\n",
            "\n"
          ]
        }
      ],
      "source": [
        "!python '/content/drive/MyDrive/Colab Notebooks/CodeForSKLearnClassifier/StatisticalClassifierSKLearn.py'"
      ]
    },
    {
      "cell_type": "markdown",
      "metadata": {
        "id": "K3w48ByafhWo"
      },
      "source": [
        "Best from Linear SVC\n",
        "\n",
        "\n",
        "```\n",
        "classifier = Pipeline([\n",
        "     ('count_vectorizer', CountVectorizer(ngram_range=(1, 3))),\n",
        "     ('tfidf', TfidfTransformer(norm='l2', use_idf=True, smooth_idf=True, sublinear_tf=False)),\n",
        "     ('clf', OneVsRestClassifier(LinearSVC(C=10.0, class_weight='balanced', dual=True, fit_intercept=True,\n",
        "      intercept_scaling=1, loss='squared_hinge', max_iter=10000,\n",
        "      multi_class='ovr', penalty='l2', random_state=0, tol=0.0001,\n",
        "      verbose=0)))])\n",
        "\n",
        "```\n",
        "\n",
        "\n",
        "\n",
        "\n"
      ]
    },
    {
      "cell_type": "code",
      "execution_count": null,
      "metadata": {
        "colab": {
          "base_uri": "https://localhost:8080/"
        },
        "id": "3a6vu-5pqDYY",
        "outputId": "35ee47c3-ff81-4a4f-b2d2-88227620d065"
      },
      "outputs": [
        {
          "name": "stdout",
          "output_type": "stream",
          "text": [
            "Reading twitter - 1grams ...\n",
            "Reading twitter - 2grams ...\n",
            "/usr/local/lib/python3.7/dist-packages/ekphrasis/classes/exmanager.py:14: FutureWarning: Possible nested set at position 42\n",
            "  regexes = {k.lower(): re.compile(self.expressions[k]) for k, v in\n",
            "Confusion Matrix :\n",
            "[[232  79]\n",
            " [169 304]]\n",
            "Recall Score : 0.7459807073954984\n",
            "Precision Score : 0.5785536159600998\n",
            "F1 Score : 0.651685393258427\n",
            "Accuracy : 0.6836734693877551\n",
            "Evaluation Report : \n",
            "              precision    recall  f1-score   support\n",
            "\n",
            "       irony       0.58      0.75      0.65       311\n",
            "    notIrony       0.79      0.64      0.71       473\n",
            "\n",
            "    accuracy                           0.68       784\n",
            "   macro avg       0.69      0.69      0.68       784\n",
            "weighted avg       0.71      0.68      0.69       784\n",
            "\n"
          ]
        }
      ],
      "source": [
        "!python '/content/drive/MyDrive/Colab Notebooks/CodeForSKLearnClassifier/StatisticalClassifierSKLearn.py'"
      ]
    },
    {
      "cell_type": "markdown",
      "metadata": {
        "id": "0NCzy0IPixgf"
      },
      "source": [
        "SGD\n",
        "\n",
        "\n",
        "```\n",
        "classifier = Pipeline([\n",
        "     ('count_vectorizer', CountVectorizer(ngram_range=(1, 3))),\n",
        "     ('clf', OneVsRestClassifier(SGDClassifier(loss=\"hinge\", penalty=\"l2\", max_iter=5)))])\n",
        "\n",
        "```\n",
        "\n",
        "\n",
        "\n"
      ]
    },
    {
      "cell_type": "code",
      "execution_count": null,
      "metadata": {
        "colab": {
          "base_uri": "https://localhost:8080/"
        },
        "id": "Myynvjhei7a3",
        "outputId": "53e08aa7-dd7e-4d5b-c3a0-d288b9795db4"
      },
      "outputs": [
        {
          "output_type": "stream",
          "name": "stdout",
          "text": [
            "Reading twitter - 1grams ...\n",
            "Reading twitter - 2grams ...\n",
            "/usr/local/lib/python3.7/dist-packages/ekphrasis/classes/exmanager.py:14: FutureWarning: Possible nested set at position 42\n",
            "  regexes = {k.lower(): re.compile(self.expressions[k]) for k, v in\n",
            "/usr/local/lib/python3.7/dist-packages/sklearn/linear_model/_stochastic_gradient.py:700: ConvergenceWarning: Maximum number of iteration reached before convergence. Consider increasing max_iter to improve the fit.\n",
            "  ConvergenceWarning,\n"
          ]
        }
      ],
      "source": [
        "!python '/content/drive/MyDrive/Colab Notebooks/CodeForSKLearnClassifier/StatisticalClassifierSKLearn.py'"
      ]
    },
    {
      "cell_type": "markdown",
      "source": [
        "Decision Tree\n",
        "\n",
        "\n",
        "```\n",
        " classifier = Pipeline([\n",
        "     ('count_vectorizer', CountVectorizer(ngram_range=(1, 3))),\n",
        "     ('clf', OneVsRestClassifier(DecisionTreeClassifier(criterion='gini', splitter='best', max_depth=None, min_samples_split=2, min_samples_leaf=1, min_weight_fraction_leaf=0.0, max_features=\"sqrt\", random_state=None, max_leaf_nodes=None, min_impurity_decrease=0.0, class_weight=\"balanced\", ccp_alpha=0.0)))])\n",
        "```\n",
        "\n"
      ],
      "metadata": {
        "id": "grrmvtFGvKBv"
      }
    },
    {
      "cell_type": "code",
      "source": [
        "!python '/content/drive/MyDrive/Colab Notebooks/CodeForSKLearnClassifier/StatisticalClassifierSKLearn.py'"
      ],
      "metadata": {
        "colab": {
          "base_uri": "https://localhost:8080/"
        },
        "id": "yWxvtmTBvZUD",
        "outputId": "34c04a87-1525-4acc-d9d6-d0e23f00bb9f"
      },
      "execution_count": null,
      "outputs": [
        {
          "output_type": "stream",
          "name": "stdout",
          "text": [
            "Reading twitter - 1grams ...\n",
            "Reading twitter - 2grams ...\n",
            "/usr/local/lib/python3.7/dist-packages/ekphrasis/classes/exmanager.py:14: FutureWarning: Possible nested set at position 42\n",
            "  regexes = {k.lower(): re.compile(self.expressions[k]) for k, v in\n",
            "Confusion Matrix :\n",
            "[[159 152]\n",
            " [129 344]]\n",
            "Recall Score : 0.5112540192926045\n",
            "Precision Score : 0.5520833333333334\n",
            "F1 Score : 0.5308848080133556\n",
            "Accuracy : 0.6415816326530612\n",
            "Evaluation Report : \n",
            "              precision    recall  f1-score   support\n",
            "\n",
            "       irony       0.55      0.51      0.53       311\n",
            "    notIrony       0.69      0.73      0.71       473\n",
            "\n",
            "    accuracy                           0.64       784\n",
            "   macro avg       0.62      0.62      0.62       784\n",
            "weighted avg       0.64      0.64      0.64       784\n",
            "\n"
          ]
        }
      ]
    },
    {
      "cell_type": "markdown",
      "source": [
        "\n",
        "\n",
        "```\n",
        "classifier = Pipeline([\n",
        "     ('count_vectorizer', CountVectorizer(ngram_range=(1, 3))),\n",
        "     ('clf', OneVsRestClassifier(RandomForestClassifier(n_estimators=100, *, criterion='gini', max_depth=None, min_samples_split=2, min_samples_leaf=1, min_weight_fraction_leaf=0.0, max_features='sqrt', max_leaf_nodes=None, min_impurity_decrease=0.0, bootstrap=True, oob_score=False, n_jobs=None, random_state=None, verbose=0, warm_start=False, class_weight=None, ccp_alpha=0.0, max_samples=None)))])\n",
        "\n",
        "```\n",
        "\n"
      ],
      "metadata": {
        "id": "WGmDjheA57g9"
      }
    },
    {
      "cell_type": "code",
      "source": [
        "!python '/content/drive/MyDrive/Colab Notebooks/CodeForSKLearnClassifier/StatisticalClassifierSKLearn.py'"
      ],
      "metadata": {
        "colab": {
          "base_uri": "https://localhost:8080/"
        },
        "id": "vQfgCsyx6Db6",
        "outputId": "d9810da6-8053-4013-f3ed-069c827000bf"
      },
      "execution_count": null,
      "outputs": [
        {
          "output_type": "stream",
          "name": "stdout",
          "text": [
            "Reading twitter - 1grams ...\n",
            "Reading twitter - 2grams ...\n",
            "/usr/local/lib/python3.7/dist-packages/ekphrasis/classes/exmanager.py:14: FutureWarning: Possible nested set at position 42\n",
            "  regexes = {k.lower(): re.compile(self.expressions[k]) for k, v in\n",
            "Confusion Matrix :\n",
            "[[172 139]\n",
            " [ 99 374]]\n",
            "Recall Score : 0.5530546623794212\n",
            "Precision Score : 0.6346863468634686\n",
            "F1 Score : 0.5910652920962198\n",
            "Accuracy : 0.6964285714285714\n",
            "Evaluation Report : \n",
            "              precision    recall  f1-score   support\n",
            "\n",
            "       irony       0.63      0.55      0.59       311\n",
            "    notIrony       0.73      0.79      0.76       473\n",
            "\n",
            "    accuracy                           0.70       784\n",
            "   macro avg       0.68      0.67      0.67       784\n",
            "weighted avg       0.69      0.70      0.69       784\n",
            "\n"
          ]
        }
      ]
    }
  ],
  "metadata": {
    "colab": {
      "provenance": []
    },
    "kernelspec": {
      "display_name": "Python 3",
      "name": "python3"
    },
    "language_info": {
      "name": "python"
    }
  },
  "nbformat": 4,
  "nbformat_minor": 0
}